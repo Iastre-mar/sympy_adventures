{
 "cells": [
  {
   "cell_type": "markdown",
   "metadata": {},
   "source": [
    "# 1\n",
    "Решите СЛАУ вручную и проверьте себя с помощью sympy.\n",
    "1) {-x +7y = -34   \n",
    "   { 8x + 8y = -48   \n",
    "   8x = - 48 - 8y   \n",
    "   x = - 6 - y   \n",
    "   6 + y + 7y = -34   \n",
    "   8y = -40   \n",
    "   y = -5   \n",
    "   x = -1   \n",
    "2) { 4x - 7y = -4   \n",
    "   { 3x - 4y = -3   \n",
    "   3x = -3 + 4y   \n",
    "   x = -1 + 4/3y   \n",
    "   -4 + 16/3 y - 7y = -4   \n",
    "   16/3 y = 7y   \n",
    "   y = 0   \n",
    "   x = -1   \n",
    "3) { 8a - 4b = 64   \n",
    "   { -3a + 3b = -21   \n",
    "   8a = 4b + 64   \n",
    "   a = 1/2 b + 8   \n",
    "   -3/2 b - 24 + 3b =-21   \n",
    "   1.5b = 3   \n",
    "   b = 2   \n",
    "   a = 9   \n",
    "4) { 5x1 + 7x2 -5x3 = -47   \n",
    "   { -2x2 + 2x3 = 10   \n",
    "   { -4x1 -8x2 - 7x3 = 63   \n",
    "   2x3 = 10 + 2x2   \n",
    "   x3 = 5 + x2   \n",
    "   5x1 +7x2 - 25 - 5x2 = -47   \n",
    "   5x1 + 2x2 = -22   \n",
    "   -4x1 - 8x2 - 35 - 7x2 = 63   \n",
    "   {-4x1 -15x2 = 98   \n",
    "   {5x1 +2x2 = -22   \n",
    "   2x2 = -22 - 5x1   \n",
    "   x2 = -11 - 5/2 x1   \n",
    "   -4x1 + 165 + 75/2 x1 = 98   \n",
    "   -4x1 + 75/2 x1 = -67   \n",
    "   67/2 x1 = -67   \n",
    "   1/2 x1 = -1   \n",
    "   x1 = -2   \n",
    "   x2 = -11 + 5   \n",
    "   x2 = -6   \n",
    "   x3 = -1   "
   ]
  },
  {
   "cell_type": "code",
   "execution_count": 1,
   "metadata": {},
   "outputs": [],
   "source": [
    "import numpy as np\n",
    "from sympy import *\n",
    "init_printing(use_unicode=False, wrap_line=False, no_global=True)"
   ]
  },
  {
   "cell_type": "code",
   "execution_count": 2,
   "metadata": {},
   "outputs": [],
   "source": [
    "x, y = symbols('x, y')"
   ]
  },
  {
   "cell_type": "code",
   "execution_count": 3,
   "metadata": {},
   "outputs": [
    {
     "data": {
      "image/png": "[encoded data removed]",
      "text/latex": [
       "$\\displaystyle \\left\\{\\left( -1, \\  -5\\right)\\right\\}$"
      ],
      "text/plain": [
       "{(-1, -5)}"
      ]
     },
     "execution_count": 3,
     "metadata": {},
     "output_type": "execute_result"
    }
   ],
   "source": [
    "f1_1 = -x +7*y +34\n",
    "f1_2 = 8*x + 8*y +48\n",
    "linsolve([f1_1,f1_2], [x,y])"
   ]
  },
  {
   "cell_type": "code",
   "execution_count": 4,
   "metadata": {},
   "outputs": [
    {
     "data": {
      "image/png": "[encoded data removed]",
      "text/latex": [
       "$\\displaystyle \\left\\{\\left( -1, \\  0\\right)\\right\\}$"
      ],
      "text/plain": [
       "{(-1, 0)}"
      ]
     },
     "execution_count": 4,
     "metadata": {},
     "output_type": "execute_result"
    }
   ],
   "source": [
    "f2_1 = 4*x - 7*y + 4\n",
    "f2_2 = 3*x - 4*y + 3\n",
    "linsolve([f2_1, f2_2], [x,y])"
   ]
  },
  {
   "cell_type": "code",
   "execution_count": 5,
   "metadata": {},
   "outputs": [],
   "source": [
    "a, b = symbols('a, b')"
   ]
  },
  {
   "cell_type": "code",
   "execution_count": 6,
   "metadata": {},
   "outputs": [
    {
     "data": {
      "image/png": "[encoded data removed]",
      "text/latex": [
       "$\\displaystyle \\left\\{\\left( 9, \\  2\\right)\\right\\}$"
      ],
      "text/plain": [
       "{(9, 2)}"
      ]
     },
     "execution_count": 6,
     "metadata": {},
     "output_type": "execute_result"
    }
   ],
   "source": [
    "f3_1 = 8*a - 4*b - 64\n",
    "f3_2 = -3*a + 3*b + 21\n",
    "linsolve([f3_1, f3_2], [a,b])"
   ]
  },
  {
   "cell_type": "code",
   "execution_count": 7,
   "metadata": {},
   "outputs": [],
   "source": [
    "x1, x2, x3 = symbols('x1, x2, x3')"
   ]
  },
  {
   "cell_type": "code",
   "execution_count": 8,
   "metadata": {},
   "outputs": [
    {
     "data": {
      "image/png": "[encoded data removed]",
      "text/latex": [
       "$\\displaystyle \\left\\{\\left( -2, \\  -6, \\  -1\\right)\\right\\}$"
      ],
      "text/plain": [
       "{(-2, -6, -1)}"
      ]
     },
     "execution_count": 8,
     "metadata": {},
     "output_type": "execute_result"
    }
   ],
   "source": [
    "f4_1 = 5*x1 + 7*x2 -5*x3 + 47\n",
    "f4_2 = -2*x2 + 2*x3 - 10\n",
    "f4_3 = -4*x1 -8*x2 - 7*x3 - 63\n",
    "linsolve([f4_1, f4_2, f4_3], [x1,x2,x3])"
   ]
  },
  {
   "cell_type": "markdown",
   "metadata": {},
   "source": [
    "# 2\n",
    "Умножьте матрицу на вектор и проверьте себя с помощью sympy и задания 1.\n",
    "1) (-34)   \n",
    "   (-48)   \n",
    "2) (-4)   \n",
    "   (-3)   \n",
    "3) (64)   \n",
    "   (-21)   \n",
    "4) (-47)   \n",
    "   (10)   \n",
    "   (63)   "
   ]
  },
  {
   "cell_type": "code",
   "execution_count": 9,
   "metadata": {},
   "outputs": [
    {
     "data": {
      "text/latex": [
       "$\\displaystyle \\left[\\begin{matrix}-34\\\\-48\\end{matrix}\\right]$"
      ],
      "text/plain": [
       "[-34]\n",
       "[   ]\n",
       "[-48]"
      ]
     },
     "execution_count": 9,
     "metadata": {},
     "output_type": "execute_result"
    }
   ],
   "source": [
    "Matrix([[-1, 7], [8, 8]]) * Matrix([-1,-5])"
   ]
  },
  {
   "cell_type": "code",
   "execution_count": 10,
   "metadata": {},
   "outputs": [
    {
     "data": {
      "text/latex": [
       "$\\displaystyle \\left[\\begin{matrix}-4\\\\-3\\end{matrix}\\right]$"
      ],
      "text/plain": [
       "[-4]\n",
       "[  ]\n",
       "[-3]"
      ]
     },
     "execution_count": 10,
     "metadata": {},
     "output_type": "execute_result"
    }
   ],
   "source": [
    "Matrix([[4, -7], [3, -4]]) * Matrix([-1,0])"
   ]
  },
  {
   "cell_type": "markdown",
   "metadata": {},
   "source": [
    "# 3 \n",
    "Решите переопределенную СЛАУ. Достигните значения MSE < 55."
   ]
  },
  {
   "cell_type": "code",
   "execution_count": 11,
   "metadata": {},
   "outputs": [],
   "source": [
    "x, y, z = symbols('x, y, z')"
   ]
  },
  {
   "cell_type": "code",
   "execution_count": 12,
   "metadata": {},
   "outputs": [
    {
     "data": {
      "text/latex": [
       "$\\displaystyle \\left[\\begin{matrix}5 & 7 & -5\\\\0 & -2 & 2\\\\-4 & -8 & -7\\\\1 & 1 & 2\\\\2 & -1 & 2\\\\4 & 1 & 4\\end{matrix}\\right]$"
      ],
      "text/plain": [
       "[5   7   -5]\n",
       "[          ]\n",
       "[0   -2  2 ]\n",
       "[          ]\n",
       "[-4  -8  -7]\n",
       "[          ]\n",
       "[1   1   2 ]\n",
       "[          ]\n",
       "[2   -1  2 ]\n",
       "[          ]\n",
       "[4   1   4 ]"
      ]
     },
     "execution_count": 12,
     "metadata": {},
     "output_type": "execute_result"
    }
   ],
   "source": [
    "m = Matrix([[5, 7, -5],\n",
    "            [0, -2, 2],\n",
    "            [-4, -8, -7],\n",
    "            [1, 1, 2],\n",
    "            [2, -1, 2],\n",
    "            [4, 1, 4]])\n",
    "m"
   ]
  },
  {
   "cell_type": "code",
   "execution_count": 13,
   "metadata": {},
   "outputs": [],
   "source": [
    "m = m * Matrix([x,y,z])"
   ]
  },
  {
   "cell_type": "code",
   "execution_count": 14,
   "metadata": {},
   "outputs": [
    {
     "data": {
      "text/latex": [
       "$\\displaystyle \\left[\\begin{matrix}5 x + 7 y - 5 z\\\\- 2 y + 2 z\\\\- 4 x - 8 y - 7 z\\\\x + y + 2 z\\\\2 x - y + 2 z\\\\4 x + y + 4 z\\end{matrix}\\right]$"
      ],
      "text/plain": [
       "[5*x + 7*y - 5*z ]\n",
       "[                ]\n",
       "[   -2*y + 2*z   ]\n",
       "[                ]\n",
       "[-4*x - 8*y - 7*z]\n",
       "[                ]\n",
       "[  x + y + 2*z   ]\n",
       "[                ]\n",
       "[ 2*x - y + 2*z  ]\n",
       "[                ]\n",
       "[ 4*x + y + 4*z  ]"
      ]
     },
     "execution_count": 14,
     "metadata": {},
     "output_type": "execute_result"
    }
   ],
   "source": [
    "m"
   ]
  },
  {
   "cell_type": "code",
   "execution_count": 15,
   "metadata": {},
   "outputs": [
    {
     "data": {
      "text/latex": [
       "$\\displaystyle \\left[\\begin{matrix}-47\\\\10\\\\63\\\\-1\\\\-4\\\\-2\\end{matrix}\\right]$"
      ],
      "text/plain": [
       "[-47]\n",
       "[   ]\n",
       "[10 ]\n",
       "[   ]\n",
       "[63 ]\n",
       "[   ]\n",
       "[-1 ]\n",
       "[   ]\n",
       "[-4 ]\n",
       "[   ]\n",
       "[-2 ]"
      ]
     },
     "execution_count": 15,
     "metadata": {},
     "output_type": "execute_result"
    }
   ],
   "source": [
    "b = Matrix([-47, 10, 63, -1, -4, -2])\n",
    "b"
   ]
  },
  {
   "cell_type": "code",
   "execution_count": 16,
   "metadata": {},
   "outputs": [],
   "source": [
    "full = m - b"
   ]
  },
  {
   "cell_type": "code",
   "execution_count": 17,
   "metadata": {},
   "outputs": [
    {
     "data": {
      "text/latex": [
       "$\\displaystyle \\left[\\begin{matrix}5 x + 7 y - 5 z + 47\\\\- 2 y + 2 z - 10\\\\- 4 x - 8 y - 7 z - 63\\\\x + y + 2 z + 1\\\\2 x - y + 2 z + 4\\\\4 x + y + 4 z + 2\\end{matrix}\\right]$"
      ],
      "text/plain": [
       "[5*x + 7*y - 5*z + 47 ]\n",
       "[                     ]\n",
       "[   -2*y + 2*z - 10   ]\n",
       "[                     ]\n",
       "[-4*x - 8*y - 7*z - 63]\n",
       "[                     ]\n",
       "[   x + y + 2*z + 1   ]\n",
       "[                     ]\n",
       "[  2*x - y + 2*z + 4  ]\n",
       "[                     ]\n",
       "[  4*x + y + 4*z + 2  ]"
      ]
     },
     "execution_count": 17,
     "metadata": {},
     "output_type": "execute_result"
    }
   ],
   "source": [
    "full"
   ]
  },
  {
   "cell_type": "code",
   "execution_count": 18,
   "metadata": {},
   "outputs": [
    {
     "data": {
      "image/png": "[encoded data removed]",
      "text/latex": [
       "$\\displaystyle 6$"
      ],
      "text/plain": [
       "6"
      ]
     },
     "execution_count": 18,
     "metadata": {},
     "output_type": "execute_result"
    }
   ],
   "source": [
    "len(full)"
   ]
  },
  {
   "cell_type": "code",
   "execution_count": 19,
   "metadata": {},
   "outputs": [
    {
     "data": {
      "image/png": "[encoded data removed]",
      "text/latex": [
       "$\\displaystyle 0.166666666666667 \\left(- 2 y + 2 z - 10\\right)^{2} + 0.166666666666667 \\left(- 4 x - 8 y - 7 z - 63\\right)^{2} + 0.166666666666667 \\left(x + y + 2 z + 1\\right)^{2} + 0.166666666666667 \\left(2 x - y + 2 z + 4\\right)^{2} + 0.166666666666667 \\left(4 x + y + 4 z + 2\\right)^{2} + 0.166666666666667 \\left(5 x + 7 y - 5 z + 47\\right)^{2}$"
      ],
      "text/plain": [
       "                                   2                                            2                                      2                                        2                                        2                                           2\n",
       "0.166666666666667*(-2*y + 2*z - 10)  + 0.166666666666667*(-4*x - 8*y - 7*z - 63)  + 0.166666666666667*(x + y + 2*z + 1)  + 0.166666666666667*(2*x - y + 2*z + 4)  + 0.166666666666667*(4*x + y + 4*z + 2)  + 0.166666666666667*(5*x + 7*y - 5*z + 47) "
      ]
     },
     "execution_count": 19,
     "metadata": {},
     "output_type": "execute_result"
    }
   ],
   "source": [
    "mse = 1/6 * (full[0] **2 + full[1] **2 + full[2] **2 + full[3] **2 + full[4] **2 + full[5] **2)\n",
    "mse"
   ]
  },
  {
   "cell_type": "code",
   "execution_count": 20,
   "metadata": {},
   "outputs": [],
   "source": [
    "diff_x = diff(mse, x)\n",
    "diff_y = diff(mse, y)\n",
    "diff_z = diff(mse, z)"
   ]
  },
  {
   "cell_type": "code",
   "execution_count": 21,
   "metadata": {},
   "outputs": [],
   "source": [
    "d_mse = (diff_x, diff_y, diff_z)"
   ]
  },
  {
   "cell_type": "code",
   "execution_count": 22,
   "metadata": {},
   "outputs": [
    {
     "data": {
      "image/png": "[encoded data removed]",
      "text/latex": [
       "$\\displaystyle \\left( 20.6666666666667 x + 23.3333333333333 y + 8.33333333333333 z + 168.0, \\  23.3333333333333 x + 40.0 y + 6.99999999999999 z + 284.0, \\  8.33333333333333 x + 6.99999999999999 y + 34.0 z + 68.0\\right)$"
      ],
      "text/plain": [
       "(20.6666666666667*x + 23.3333333333333*y + 8.33333333333333*z + 168.0, 23.3333333333333*x + 40.0*y + 6.99999999999999*z + 284.0, 8.33333333333333*x + 6.99999999999999*y + 34.0*z + 68.0)"
      ]
     },
     "execution_count": 22,
     "metadata": {},
     "output_type": "execute_result"
    }
   ],
   "source": [
    "d_mse"
   ]
  },
  {
   "cell_type": "code",
   "execution_count": 23,
   "metadata": {},
   "outputs": [
    {
     "data": {
      "image/png": "[encoded data removed]",
      "text/latex": [
       "$\\displaystyle \\left[ -168.0, \\  -284.0, \\  -68.0\\right]$"
      ],
      "text/plain": [
       "[-168.0, -284.0, -68.0]"
      ]
     },
     "execution_count": 23,
     "metadata": {},
     "output_type": "execute_result"
    }
   ],
   "source": [
    "[elem.subs({x:0, y:0, z:0}) * -1 for elem in d_mse]"
   ]
  },
  {
   "cell_type": "code",
   "execution_count": 24,
   "metadata": {},
   "outputs": [
    {
     "data": {
      "image/png": "[encoded data removed]",
      "text/latex": [
       "$\\displaystyle 1049.83333333333$"
      ],
      "text/plain": [
       "1049.83333333333"
      ]
     },
     "execution_count": 24,
     "metadata": {},
     "output_type": "execute_result"
    }
   ],
   "source": [
    "mse.subs({x:0, y:0, z:0})"
   ]
  },
  {
   "cell_type": "code",
   "execution_count": 25,
   "metadata": {},
   "outputs": [],
   "source": [
    "def grad(mse):\n",
    "    diff_x = diff(mse, x)\n",
    "    diff_y = diff(mse, y)\n",
    "    diff_z = diff(mse, z)\n",
    "    d_mse = [diff_x, diff_y, diff_z]\n",
    "    antigr = [elem.subs({x:0, y:0, z:0}) * -1 for elem in d_mse]\n",
    "    step = 0.01\n",
    "    x_value = antigr[0] * step\n",
    "    y_value = antigr[1] * step\n",
    "    z_value = antigr[2] * step\n",
    "    counter = 1\n",
    "    while mse.subs({x:x_value, y:y_value, z:z_value}) > 55:\n",
    "        antigr = [elem.subs({x:x_value, y:y_value, z:z_value}) * -1 for elem in d_mse]\n",
    "        x_value += antigr[0] * step\n",
    "        y_value += antigr[1] * step\n",
    "        z_value += antigr[2] * step\n",
    "        counter += 1\n",
    "    print(f'x:{x_value}', f'y:{y_value}', f'z:{z_value}', f'mse:{mse.subs({x:x_value, y:y_value, z:z_value})}', sep='\\n')\n",
    "    print(f'количество шагов: {counter}')"
   ]
  },
  {
   "cell_type": "code",
   "execution_count": 26,
   "metadata": {},
   "outputs": [
    {
     "name": "stdout",
     "output_type": "stream",
     "text": [
      "x:-2.23893438867603\n",
      "y:-5.49162915212318\n",
      "z:-0.412953715575168\n",
      "mse:54.3188045027199\n",
      "количество шагов: 7\n"
     ]
    }
   ],
   "source": [
    "grad(mse)"
   ]
  }
 ],
 "metadata": {
  "kernelspec": {
   "display_name": "Python 3",
   "language": "python",
   "name": "python3"
  },
  "language_info": {
   "codemirror_mode": {
    "name": "ipython",
    "version": 3
   },
   "file_extension": ".py",
   "mimetype": "text/x-python",
   "name": "python",
   "nbconvert_exporter": "python",
   "pygments_lexer": "ipython3",
   "version": "3.7.8"
  }
 },
 "nbformat": 4,
 "nbformat_minor": 4
}

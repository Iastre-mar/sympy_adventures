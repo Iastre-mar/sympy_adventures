{
 "cells": [
  {
   "cell_type": "markdown",
   "metadata": {},
   "source": [
    "# 1\n",
    "Вычислите значения выражений"
   ]
  },
  {
   "cell_type": "markdown",
   "metadata": {},
   "source": [
    "1) 3 * (2, 5, 0, 6, 8, 10, 6, 7, 5, 7) * 2 * (8, 6 , 7, 9, 6, 6, 2, 3, 2, 3) = (6, 15, 0, 18, 24, 30, 18, 21, 15, 21) * (16, 12, 14, 18, 12, 12, 4, 6, 4, 6) =   (96, 180, 0, 324, 288, 360, 72, 126, 60, 126) = 1632      \n",
    "2) 6 * (9, 6, 7, 7, 0, 1, 6, 8, 1, 2) * 5 * (0, 2, 2, 6, 7, 8, 8, 3, 1, 8) = (54, 36, 42, 42, 0, 6, 36, 48, 6, 12) * (0, 10, 10, 30, 35, 40, 40, 15, 5, 40) = (0, 360, 420, 1260, 0, 240, 1440, 720, 30, 480) = 4950   \n",
    "3) (2, 5, 0, 6, 8, 10, 6, 7, 5, 7)  * (8, 6, 7, 9, 6, 6, 2, 3, 2, 3) = (16, 30, 0, 54, 48, 60, 12, 21, 10, 21) = 272   \n",
    "4) (9, 6, 7, 7, 0, 1, 6, 8, 1, 2) * (0, 2, 2, 6, 7, 8, 8, 3, 1, 8) = (0, 12, 14, 42, 0, 8, 48, 24, 1, 16) = 165"
   ]
  },
  {
   "cell_type": "markdown",
   "metadata": {},
   "source": [
    "# 2\n",
    "Для следующих заданий сделайте в Python функцию, реализующую транспонирование матрицы произвольной размерности, пользуясь данным в модуле определением. Функция должна принимать и возвращать либо numpy.array, либо двумерный список (list). С помощью написанной вами функции выполните следующие задания:\n"
   ]
  },
  {
   "cell_type": "code",
   "execution_count": 1,
   "metadata": {},
   "outputs": [],
   "source": [
    "import numpy as np\n",
    "from sympy import *\n",
    "init_printing(use_unicode=False, wrap_line=False, no_global=True)"
   ]
  },
  {
   "cell_type": "code",
   "execution_count": 2,
   "metadata": {},
   "outputs": [],
   "source": [
    "def T(lst):\n",
    "    y_len = len(lst)\n",
    "    x_len = len(lst[0])\n",
    "    for x in lst:\n",
    "        if len(x) != x_len:\n",
    "            print('Количество столбцов у разных строк неодинаково')\n",
    "            return\n",
    "    new_lst = np.zeros((x_len, y_len))\n",
    "    for index1 in range(y_len):\n",
    "        for index2 in range(x_len):\n",
    "            new_lst[index2][index1] = lst[index1][index2]\n",
    "    return new_lst"
   ]
  },
  {
   "cell_type": "code",
   "execution_count": 3,
   "metadata": {},
   "outputs": [],
   "source": [
    "lst1 = [[2, 1, 7, 4],\n",
    "        [5, 6, 7, 3],\n",
    "        [9, 8, 2, 12],\n",
    "        [11, 14, 15, 15]]"
   ]
  },
  {
   "cell_type": "code",
   "execution_count": 4,
   "metadata": {},
   "outputs": [
    {
     "data": {
      "text/plain": [
       "array([[ 2.,  5.,  9., 11.],\n",
       "       [ 1.,  6.,  8., 14.],\n",
       "       [ 7.,  7.,  2., 15.],\n",
       "       [ 4.,  3., 12., 15.]])"
      ]
     },
     "execution_count": 4,
     "metadata": {},
     "output_type": "execute_result"
    }
   ],
   "source": [
    "T(lst1)"
   ]
  },
  {
   "cell_type": "code",
   "execution_count": 5,
   "metadata": {},
   "outputs": [],
   "source": [
    "lst2 = [[3, 7, 8, 3, 6],\n",
    "        [2, 5, 9, 4, 13]]"
   ]
  },
  {
   "cell_type": "code",
   "execution_count": 6,
   "metadata": {},
   "outputs": [
    {
     "data": {
      "text/plain": [
       "array([[ 3.,  2.],\n",
       "       [ 7.,  5.],\n",
       "       [ 8.,  9.],\n",
       "       [ 3.,  4.],\n",
       "       [ 6., 13.]])"
      ]
     },
     "execution_count": 6,
     "metadata": {},
     "output_type": "execute_result"
    }
   ],
   "source": [
    "T(lst2)"
   ]
  },
  {
   "cell_type": "markdown",
   "metadata": {},
   "source": [
    "# 3\n",
    "Завершите начатый в последнем уроке градиентный спуск. Вы можете решать эту задачу с помощью SymPy или вручную. Двигайтесь из точки в точку в направлении антиградиента, размер шага оставьте равным 0.01. Обратите внимание, что в каждой новой точке антиградиент будет разным. Добейтесь величины MSE меньше 6,36. Сколько шагов градиентного спуска вам потребовалось для этого?\n"
   ]
  },
  {
   "cell_type": "code",
   "execution_count": 7,
   "metadata": {},
   "outputs": [],
   "source": [
    "a2, a1, a0 = symbols('a2, a1, a0')"
   ]
  },
  {
   "cell_type": "code",
   "execution_count": 8,
   "metadata": {},
   "outputs": [
    {
     "data": {
      "image/png": "[encoded data removed]",
      "text/latex": [
       "$\\displaystyle 0.25 \\left(2 a_{1} + a_{2} - 5\\right)^{2} + 0.25 \\left(3 a_{1} + 5 a_{2} - 6\\right)^{2} + 0.25 \\left(4 a_{1} + 2 a_{2} - 10\\right)^{2} + 0.25 \\left(7 a_{1} + 3 a_{2} - 8\\right)^{2}$"
      ],
      "text/plain": [
       "                    2                         2                          2                         2\n",
       "0.25*(2*a1 + a2 - 5)  + 0.25*(3*a1 + 5*a2 - 6)  + 0.25*(4*a1 + 2*a2 - 10)  + 0.25*(7*a1 + 3*a2 - 8) "
      ]
     },
     "execution_count": 8,
     "metadata": {},
     "output_type": "execute_result"
    }
   ],
   "source": [
    "mse = 0.25 * ((a2 * 1 + a1 * 2 - 5) ** 2 + (a2 * 5 + a1 * 3 - 6) ** 2 + (a2 * 2 + a1 * 4 - 10) ** 2 + (a2 * 3 + a1 * 7 - 8) ** 2)\n",
    "mse"
   ]
  },
  {
   "cell_type": "code",
   "execution_count": 9,
   "metadata": {},
   "outputs": [
    {
     "data": {
      "image/png": "[encoded data removed]",
      "text/latex": [
       "$\\displaystyle 39.0 a_{1} + 23.0 a_{2} - 62.0$"
      ],
      "text/plain": [
       "39.0*a1 + 23.0*a2 - 62.0"
      ]
     },
     "execution_count": 9,
     "metadata": {},
     "output_type": "execute_result"
    }
   ],
   "source": [
    "diff_a1 = diff(mse, a1)\n",
    "diff_a1"
   ]
  },
  {
   "cell_type": "code",
   "execution_count": 10,
   "metadata": {},
   "outputs": [
    {
     "data": {
      "image/png": "[encoded data removed]",
      "text/latex": [
       "$\\displaystyle 23.0 a_{1} + 19.5 a_{2} - 39.5$"
      ],
      "text/plain": [
       "23.0*a1 + 19.5*a2 - 39.5"
      ]
     },
     "execution_count": 10,
     "metadata": {},
     "output_type": "execute_result"
    }
   ],
   "source": [
    "diff_a2 = diff(mse, a2)\n",
    "diff_a2"
   ]
  },
  {
   "cell_type": "code",
   "execution_count": 11,
   "metadata": {},
   "outputs": [],
   "source": [
    "d_mse = (diff_a2, diff_a1)"
   ]
  },
  {
   "cell_type": "code",
   "execution_count": 12,
   "metadata": {},
   "outputs": [
    {
     "data": {
      "image/png": "[encoded data removed]",
      "text/latex": [
       "$\\displaystyle \\left( 23.0 a_{1} + 19.5 a_{2} - 39.5, \\  39.0 a_{1} + 23.0 a_{2} - 62.0\\right)$"
      ],
      "text/plain": [
       "(23.0*a1 + 19.5*a2 - 39.5, 39.0*a1 + 23.0*a2 - 62.0)"
      ]
     },
     "execution_count": 12,
     "metadata": {},
     "output_type": "execute_result"
    }
   ],
   "source": [
    "d_mse"
   ]
  },
  {
   "cell_type": "code",
   "execution_count": 13,
   "metadata": {},
   "outputs": [
    {
     "data": {
      "image/png": "[encoded data removed]",
      "text/latex": [
       "$\\displaystyle \\left[ 39.5, \\  62.0\\right]$"
      ],
      "text/plain": [
       "[39.5, 62.0]"
      ]
     },
     "execution_count": 13,
     "metadata": {},
     "output_type": "execute_result"
    }
   ],
   "source": [
    "[x.subs({a2:0, a1:0}) * -1 for x in d_mse]"
   ]
  },
  {
   "cell_type": "code",
   "execution_count": 14,
   "metadata": {},
   "outputs": [
    {
     "data": {
      "image/png": "[encoded data removed]",
      "text/latex": [
       "$\\displaystyle 56.25$"
      ],
      "text/plain": [
       "56.2500000000000"
      ]
     },
     "execution_count": 14,
     "metadata": {},
     "output_type": "execute_result"
    }
   ],
   "source": [
    "mse.subs({a2:0, a1:0})"
   ]
  },
  {
   "cell_type": "code",
   "execution_count": 15,
   "metadata": {},
   "outputs": [],
   "source": [
    "def grad(mse):\n",
    "    diff_a1 = diff(mse, a1)\n",
    "    diff_a2 = diff(mse, a2)\n",
    "    d_mse = [diff_a2, diff_a1]\n",
    "    antigr = [x.subs({a2:0, a1:0}) * -1 for x in d_mse]\n",
    "    step = 0.01\n",
    "    a2_value = antigr[0] * step\n",
    "    a1_value = antigr[1] * step\n",
    "    counter = 1\n",
    "    while mse.subs({a2:a2_value, a1:a1_value}) > 6.36:\n",
    "        antigr = [x.subs({a2:a2_value, a1:a1_value}) * -1 for x in d_mse]\n",
    "        a2_value += antigr[0] * step\n",
    "        a1_value += antigr[1] * step\n",
    "        counter += 1\n",
    "    print(f'a2:{a2_value}', f'a1:{a1_value}', f'mse:{mse.subs({a2:a2_value, a1:a1_value})}', sep='\\n')\n",
    "    print(f'количество шагов: {counter}')"
   ]
  },
  {
   "cell_type": "code",
   "execution_count": 16,
   "metadata": {},
   "outputs": [
    {
     "name": "stdout",
     "output_type": "stream",
     "text": [
      "a2:0.678414954289931\n",
      "a1:1.16948998651869\n",
      "mse:6.35010849011796\n",
      "количество шагов: 7\n"
     ]
    }
   ],
   "source": [
    "grad(mse)"
   ]
  }
 ],
 "metadata": {
  "kernelspec": {
   "display_name": "Python 3",
   "language": "python",
   "name": "python3"
  },
  "language_info": {
   "codemirror_mode": {
    "name": "ipython",
    "version": 3
   },
   "file_extension": ".py",
   "mimetype": "text/x-python",
   "name": "python",
   "nbconvert_exporter": "python",
   "pygments_lexer": "ipython3",
   "version": "3.8.3"
  }
 },
 "nbformat": 4,
 "nbformat_minor": 4
}

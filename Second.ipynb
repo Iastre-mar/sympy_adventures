{
 "cells": [
  {
   "cell_type": "code",
   "execution_count": 1,
   "metadata": {},
   "outputs": [],
   "source": [
    "from math import *\n",
    "from sympy import *"
   ]
  },
  {
   "cell_type": "code",
   "execution_count": 2,
   "metadata": {},
   "outputs": [
    {
     "data": {
      "text/latex": [
       "$\\displaystyle \\frac{\\left(\\sqrt{7} + \\sqrt{13}\\right)^{2}}{\\sqrt{91} + 10}$"
      ],
      "text/plain": [
       "(sqrt(7) + sqrt(13))**2/(sqrt(91) + 10)"
      ]
     },
     "execution_count": 2,
     "metadata": {},
     "output_type": "execute_result"
    }
   ],
   "source": [
    "# 1\n",
    "((sqrt(13)+sqrt(7))**2)/(10+sqrt(91))"
   ]
  },
  {
   "cell_type": "code",
   "execution_count": 3,
   "metadata": {},
   "outputs": [
    {
     "data": {
      "text/latex": [
       "$\\displaystyle \\frac{2 \\sqrt{91} + 20}{\\sqrt{91} + 10}$"
      ],
      "text/plain": [
       "(2*sqrt(91) + 20)/(sqrt(91) + 10)"
      ]
     },
     "execution_count": 3,
     "metadata": {},
     "output_type": "execute_result"
    }
   ],
   "source": [
    "(7+2*sqrt(7)*sqrt(13)+13)/(10+sqrt(91))"
   ]
  },
  {
   "cell_type": "code",
   "execution_count": 4,
   "metadata": {},
   "outputs": [
    {
     "data": {
      "text/plain": [
       "2"
      ]
     },
     "execution_count": 4,
     "metadata": {},
     "output_type": "execute_result"
    }
   ],
   "source": [
    "2"
   ]
  },
  {
   "cell_type": "code",
   "execution_count": 5,
   "metadata": {},
   "outputs": [
    {
     "data": {
      "text/latex": [
       "$\\displaystyle \\log{\\left(\\frac{10}{b^{3}} \\right)}$"
      ],
      "text/plain": [
       "log(10/b**3)"
      ]
     },
     "execution_count": 5,
     "metadata": {},
     "output_type": "execute_result"
    }
   ],
   "source": [
    "# 2\n",
    "b = Symbol('b')\n",
    "log((10/(b**3)))"
   ]
  },
  {
   "cell_type": "code",
   "execution_count": 6,
   "metadata": {},
   "outputs": [
    {
     "data": {
      "text/latex": [
       "$\\displaystyle - \\log{\\left(b^{3} \\right)} + \\log{\\left(10 \\right)}$"
      ],
      "text/plain": [
       "-log(b**3) + log(10)"
      ]
     },
     "execution_count": 6,
     "metadata": {},
     "output_type": "execute_result"
    }
   ],
   "source": [
    "log(10) - log(b**3)"
   ]
  },
  {
   "cell_type": "code",
   "execution_count": 7,
   "metadata": {},
   "outputs": [
    {
     "data": {
      "text/plain": [
       "-14.0"
      ]
     },
     "execution_count": 7,
     "metadata": {},
     "output_type": "execute_result"
    }
   ],
   "source": [
    "log10(10) - 15"
   ]
  },
  {
   "cell_type": "code",
   "execution_count": 8,
   "metadata": {},
   "outputs": [
    {
     "data": {
      "text/latex": [
       "$\\displaystyle 6 a^{3}$"
      ],
      "text/plain": [
       "6*a**3"
      ]
     },
     "execution_count": 8,
     "metadata": {},
     "output_type": "execute_result"
    }
   ],
   "source": [
    "# 3\n",
    "a = Symbol('a')\n",
    "2*a*a**(4/3)*3*a**(2/3)\n",
    "6*a*a**(6/3)\n",
    "6*a**3"
   ]
  },
  {
   "cell_type": "code",
   "execution_count": 10,
   "metadata": {},
   "outputs": [
    {
     "name": "stdin",
     "output_type": "stream",
     "text": [
      " 5\n"
     ]
    },
    {
     "name": "stdout",
     "output_type": "stream",
     "text": [
      "4.787491742782046\n"
     ]
    }
   ],
   "source": [
    "# 4\n",
    "inp = int(input())\n",
    "summ = 0\n",
    "for i in range(1,inp+1):\n",
    "    summ += float(ln(i))\n",
    "print(summ)"
   ]
  },
  {
   "cell_type": "code",
   "execution_count": 11,
   "metadata": {},
   "outputs": [
    {
     "name": "stdin",
     "output_type": "stream",
     "text": [
      " 5\n"
     ]
    },
    {
     "name": "stdout",
     "output_type": "stream",
     "text": [
      "4.787491742782046\n"
     ]
    }
   ],
   "source": [
    "inp = int(input())\n",
    "mult = 1\n",
    "for i in range(1,inp+1):\n",
    "    mult *= i\n",
    "else:\n",
    "    otv = float(ln(mult))\n",
    "print(otv)"
   ]
  },
  {
   "cell_type": "code",
   "execution_count": 12,
   "metadata": {},
   "outputs": [],
   "source": [
    "# 6\n",
    "# Таковы свойства логарифма log(10*2) = log10 + log10"
   ]
  },
  {
   "cell_type": "code",
   "execution_count": 13,
   "metadata": {},
   "outputs": [
    {
     "data": {
      "text/plain": [
       "4.0"
      ]
     },
     "execution_count": 13,
     "metadata": {},
     "output_type": "execute_result"
    }
   ],
   "source": [
    "# 1\n",
    "(15*(a**(1/28))**(1/5)-7*(a**(1/20))**(1/7))/(2*(a**(1/4)**(1/35)))\n",
    "(15*a**(1/140)-7*a**(1/140))/(2*a**(1/140))\n",
    "8/2"
   ]
  },
  {
   "cell_type": "raw",
   "metadata": {},
   "source": [
    "# 2\n",
    "g(x) = (x*(4-x))**(1/3)\n",
    "\n",
    "g(2-x)/g(2+x) = (((2-x)*(4-(2-x)))**(1/3))/(((2+x)*(4-(2+x)))**(1/3))) = ((2-x)(2+x)/(2+x)(2-x))**(1/3)"
   ]
  },
  {
   "cell_type": "code",
   "execution_count": 14,
   "metadata": {},
   "outputs": [
    {
     "data": {
      "text/plain": [
       "1"
      ]
     },
     "execution_count": 14,
     "metadata": {},
     "output_type": "execute_result"
    }
   ],
   "source": [
    "1"
   ]
  },
  {
   "cell_type": "code",
   "execution_count": 15,
   "metadata": {},
   "outputs": [
    {
     "data": {
      "text/plain": [
       "5"
      ]
     },
     "execution_count": 15,
     "metadata": {},
     "output_type": "execute_result"
    }
   ],
   "source": [
    "# 3\n",
    "x = Symbol('x')\n",
    "((2*x**3)**4-(x**2)**6)/(3*x**12)\n",
    "(16*x**12 - x**12)/(3**x**12)\n",
    "5"
   ]
  },
  {
   "cell_type": "code",
   "execution_count": 16,
   "metadata": {},
   "outputs": [
    {
     "data": {
      "text/plain": [
       "-0.5"
      ]
     },
     "execution_count": 16,
     "metadata": {},
     "output_type": "execute_result"
    }
   ],
   "source": [
    "# 4\n",
    "(11*a**6*b**3-(3*a**2*b)**3)/(4*a**6*b**6)\n",
    "(11*a**6*b**3 - 27*a**6*b**3)/(4*a**6*b**6)\n",
    "-16/4*b**3\n",
    "-4/(2**3)"
   ]
  }
 ],
 "metadata": {
  "kernelspec": {
   "display_name": "Python 3",
   "language": "python",
   "name": "python3"
  },
  "language_info": {
   "codemirror_mode": {
    "name": "ipython",
    "version": 3
   },
   "file_extension": ".py",
   "mimetype": "text/x-python",
   "name": "python",
   "nbconvert_exporter": "python",
   "pygments_lexer": "ipython3",
   "version": "3.7.6"
  }
 },
 "nbformat": 4,
 "nbformat_minor": 4
}
